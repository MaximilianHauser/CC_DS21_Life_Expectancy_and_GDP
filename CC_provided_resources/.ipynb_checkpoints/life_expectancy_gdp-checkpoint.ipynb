{
 "cells": [
  {
   "cell_type": "markdown",
   "metadata": {},
   "source": [
    "# #Codecademy Portfolio Project: Life expectancy and GDP\n",
    "\n",
    "Goal:\n",
    " - try and identify the relationship between the GDP and life expectancy (LE) of six countries\n",
    " - creating a blog post to share your findings\n",
    " \n",
    "Provided Resources:\n",
    " - all_data.csv"
   ]
  },
  {
   "cell_type": "code",
   "execution_count": 1,
   "metadata": {},
   "outputs": [],
   "source": [
    "# import section ------------------------------------------------------------------------------------------------------------- #\n",
    "\n",
    "import pandas as pd\n"
   ]
  },
  {
   "cell_type": "markdown",
   "metadata": {},
   "source": [
    "Loading the provided csv file and taking a look at it to get an overview over the provided data"
   ]
  },
  {
   "cell_type": "code",
   "execution_count": 4,
   "metadata": {},
   "outputs": [
    {
     "name": "stdout",
     "output_type": "stream",
     "text": [
      "<class 'pandas.core.frame.DataFrame'>\n",
      "RangeIndex: 96 entries, 0 to 95\n",
      "Data columns (total 4 columns):\n",
      " #   Column                            Non-Null Count  Dtype  \n",
      "---  ------                            --------------  -----  \n",
      " 0   Country                           96 non-null     object \n",
      " 1   Year                              96 non-null     int64  \n",
      " 2   Life expectancy at birth (years)  96 non-null     float64\n",
      " 3   GDP                               96 non-null     float64\n",
      "dtypes: float64(2), int64(1), object(1)\n",
      "memory usage: 3.1+ KB\n"
     ]
    }
   ],
   "source": [
    "all_data_df = pd.read_csv(\"all_data.csv\")\n",
    "all_data_df.head(10)\n",
    "all_data_df.info()"
   ]
  },
  {
   "cell_type": "markdown",
   "metadata": {},
   "source": [
    "Initial insights:\n",
    " - all_data is provided in long form, needs to be reshaped for analysis\n",
    " - dtypes: gdp is provided as float needs to be converted to integer\n",
    " - no null-values, need to check if other notation is used as null\n",
    " - data provided by world bank, is it possible to aquire a more comprehensive data regarding gdp and le metrics of the six countries?\n",
    " \n",
    "Initial analysis questions:\n",
    " - causal:\n",
    "   - can a relation between gdp and le be expected?\n",
    "     - gdp encompases an entire country, not an individual metric, does not account for wealth distribution\n",
    "     - le is an individual metric\n",
    "     - within a country, should be plausible, as the population should be somewhat stable\n",
    "     - look for additional metrics regarding gdp and le\n",
    "     \n",
    " - descriptive:\n",
    "   - performed on more comprehensive data \n",
    " \n",
    " - correlational:\n",
    "   - performed on more comprehensive data "
   ]
  },
  {
   "cell_type": "markdown",
   "metadata": {},
   "source": [
    "Given the comprehensive data provided by the world bank, the decision was made to download a more comprehensive set, as an increased amount of data points will provide a more reliable conclusion.\n",
    "The new data file for the six countries () contains the following metrics for the years from until:\n"
   ]
  },
  {
   "cell_type": "code",
   "execution_count": null,
   "metadata": {},
   "outputs": [],
   "source": []
  }
 ],
 "metadata": {
  "kernelspec": {
   "display_name": "Python 3 (ipykernel)",
   "language": "python",
   "name": "python3"
  },
  "language_info": {
   "codemirror_mode": {
    "name": "ipython",
    "version": 3
   },
   "file_extension": ".py",
   "mimetype": "text/x-python",
   "name": "python",
   "nbconvert_exporter": "python",
   "pygments_lexer": "ipython3",
   "version": "3.9.13"
  }
 },
 "nbformat": 4,
 "nbformat_minor": 4
}
